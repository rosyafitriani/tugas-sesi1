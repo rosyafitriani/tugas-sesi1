{
 "cells": [
  {
   "cell_type": "code",
   "execution_count": 34,
   "id": "a7ad3ecb-1da7-420c-b183-ae9a706b167d",
   "metadata": {},
   "outputs": [
    {
     "name": "stdout",
     "output_type": "stream",
     "text": [
      "nama : Dedi\n",
      "umur : 20\n",
      "alamat : Jl. Cibolang 7413412\n",
      "Nilai Pemrograman : 80.5\n",
      "Status Menikah : False\n"
     ]
    }
   ],
   "source": [
    "name = \"Dedi\"\n",
    "age = 20\n",
    "addres,province = \"Jl. Cibolang\" , \"7413412\"\n",
    "scorePython = 80.5\n",
    "isMarried = False\n",
    "\n",
    "print (\"nama :\",name)\n",
    "print (\"umur :\",age)\n",
    "print (\"alamat :\",addres,province)\n",
    "print (\"Nilai Pemrograman :\",scorePython)\n",
    "print (\"Status Menikah :\",isMarried)"
   ]
  },
  {
   "cell_type": "code",
   "execution_count": 36,
   "id": "d0d1a2fe-e9f9-4b97-a8a0-5436b8daad36",
   "metadata": {},
   "outputs": [
    {
     "name": "stdout",
     "output_type": "stream",
     "text": [
      "Tipe Data <name> <class 'str'>\n",
      "Tipe Data <Age> <class 'int'>\n",
      "Tipe Data <addres> <class 'str'>\n",
      "Tipe Data <province> <class 'str'>\n",
      "Tipe Data <scorePhyton> <class 'float'>\n",
      "Tipe Data <isMarried> <class 'bool'>\n"
     ]
    }
   ],
   "source": [
    "print(\"Tipe Data <name>\",type(name))\n",
    "print(\"Tipe Data <Age>\",type(age))\n",
    "print(\"Tipe Data <addres>\",type(addres))\n",
    "print(\"Tipe Data <province>\",type(province))\n",
    "print(\"Tipe Data <scorePhyton>\",type(scorePhyton))\n",
    "print(\"Tipe Data <isMarried>\",type(isMarried))"
   ]
  },
  {
   "cell_type": "code",
   "execution_count": 58,
   "id": "bee8cae1-b7d2-4bfc-bd5a-b5fa1f0b10ec",
   "metadata": {},
   "outputs": [
    {
     "name": "stdout",
     "output_type": "stream",
     "text": [
      "7413417-7413412.0-True\n",
      "20-20.0-True\n",
      "87.5-87-True\n",
      "0-0.0-False\n"
     ]
    }
   ],
   "source": [
    "#Konversi Tipe Data\n",
    "#Konversi dari String ke int,float,bool\n",
    "strToInt = int(province)\n",
    "strToFloat = float(province)\n",
    "strToBool = bool(province)\n",
    "print(strToInt+5, strToFloat, strToBool, sep=\"-\")\n",
    "\n",
    "#konversi dari int ke (str,float,bool)\n",
    "intToStr = str(age)\n",
    "intToFloat = float(age)\n",
    "intToBool = bool(age)\n",
    "print(intToStr, intToFloat, intToBool, sep=\"-\")\n",
    "\n",
    "#konversi dari float ke (str,int,bool)\n",
    "floatToStr = str(scorePhyton)\n",
    "floatToInt = int(scorePhyton)\n",
    "floatToBool = bool(scorePhyton)\n",
    "print(floatToStr, floatToInt, floatToBool, sep=\"-\")\n",
    "\n",
    "#konversi dari bool ke (int,float,str)\n",
    "boolToInt = int(isMarried)\n",
    "boolToFloat = float(isMarried)\n",
    "boolToStr = str(isMarried)\n",
    "print(boolToInt, boolToFloat, boolToStr, sep=\"-\")\n"
   ]
  },
  {
   "cell_type": "code",
   "execution_count": 54,
   "id": "8a07aeb8-00bd-431f-b7e2-926f45d90564",
   "metadata": {},
   "outputs": [
    {
     "name": "stdout",
     "output_type": "stream",
     "text": [
      "Desimal : 100\n",
      "Biner : 10\n",
      "octal : 255\n",
      "Hexadesimal : 255\n",
      "Biner dari 100 0b1100100\n",
      "Octal dari 100 0o144\n",
      "Hexa dari 100 0x64\n"
     ]
    }
   ],
   "source": [
    "#Tipe Data jenis bilangan\n",
    "desimal = 100\n",
    "biner = 0b1010\n",
    "octal = 0o377\n",
    "hexa = 0xff\n",
    "\n",
    "print(\"Desimal :\",desimal)\n",
    "print(\"Biner :\",biner)\n",
    "print(\"octal :\",octal)\n",
    "print(\"Hexadesimal :\",hexa)\n",
    "\n",
    "print(\"Biner dari\",desimal,bin(desimal))\n",
    "print(\"Octal dari\", desimal,oct(desimal))\n",
    "print(\"Hexa dari\",desimal,hex(desimal))"
   ]
  },
  {
   "cell_type": "code",
   "execution_count": 60,
   "id": "5f4f8dd9-8e83-4d68-87d0-0f4a09abfc29",
   "metadata": {},
   "outputs": [
    {
     "name": "stdout",
     "output_type": "stream",
     "text": [
      "Nilai Desimal : 500\n",
      "Nilai Biner : 10\n",
      "Nilai octal : 255\n",
      "Nilai Hexa : 255\n",
      "Nilai Biner dari 500 0b111110100\n",
      "Nilai Octal dari 500 0o764\n",
      "Nilai Hexa dari 500 0x1f4\n"
     ]
    }
   ],
   "source": [
    "#Tipe Data basis bilangan (desimal,biner,octal,hexa)\n",
    "desimal = 500\n",
    "biner = 0b1010\n",
    "octal = 0o377\n",
    "hexa = 0xff\n",
    "\n",
    "print(\"Nilai Desimal :\",desimal)\n",
    "print(\"Nilai Biner :\",biner)\n",
    "print(\"Nilai octal :\",octal)\n",
    "print(\"Nilai Hexa :\",hexa)\n",
    "\n",
    "print(\"Nilai Biner dari\",desimal,bin(desimal))\n",
    "print(\"Nilai Octal dari\", desimal,oct(desimal))\n",
    "print(\"Nilai Hexa dari\",desimal,hex(desimal))"
   ]
  },
  {
   "cell_type": "code",
   "execution_count": 114,
   "id": "125a856b-7068-4778-9326-1af683cff0c0",
   "metadata": {},
   "outputs": [
    {
     "name": "stdout",
     "output_type": "stream",
     "text": [
      "['Bandung', 'Sukabumi', 'Bogor', 'Jakarta', 'Medan']\n",
      "Bandung\n",
      "Medan\n",
      "M\n",
      "n\n",
      "['Bali', 'Sukabumi', 'Bogor', 'Jakarta', 'Medan']\n",
      "('Andi', 'Ferdi', 'Raihan')\n",
      "Ferdi\n",
      "{'name': 'Robi', 'age': 25, 'address': {'street': 'Cisaat', 'number': 21, 'province': 'Jawa Barat'}, 'isMarried': True, 'hobbies': ['Basket Ball', 'Football']}\n",
      "25\n",
      "Jawa Barat\n",
      "Basket Ball\n",
      "{'name': 'Robi', 'age': 25, 'address': {'street': 'cisaat', 'number': 21, 'province': 'Jawa Barat'}, 'isMarried': True, 'hobbies': ['Basket Ball', 'Footbal']}\n",
      "{'name': 'Dedi', 'age': 15, 'address': {'street': 'Bogor', 'number': 29, 'province': 'Jawa Barat'}, 'isMarried': False, 'hobbies': ['Chess', 'Singing']}\n",
      "Jawa Barat\n"
     ]
    }
   ],
   "source": [
    "#Tipe data Collection\n",
    "#List\n",
    "cities = [\"Bandung\",\"Sukabumi\",\"Bogor\",\"Jakarta\",\"Medan\"]\n",
    "lengthCities = len(cities)\n",
    "print(cities)\n",
    "print(cities[0])\n",
    "print(cities[lengthCities-1])\n",
    "print(cities[lengthCities-1][0])\n",
    "print(cities[lengthCities-1][len(cities[lengthCities-1])-1])\n",
    "cities[0] = \"Bali\"\n",
    "#cities[5] = \"Malang\" akan menyebabka error out of range\n",
    "print(cities)\n",
    "\n",
    "#Tuple\n",
    "names = (\"Andi\",\"Ferdi\",\"Raihan\")\n",
    "print(names)\n",
    "print(names[1])\n",
    "#names[0] = \"Dedi\" eror immutable tuple\n",
    "\n",
    "#Dictionary\n",
    "studentData = {\n",
    "    \"name\" : \"Robi\",\n",
    "    \"age\" : 25,\n",
    "    \"address\" : {\n",
    "        \"street\" : \"Cisaat\",\n",
    "        \"number\" : 21,\n",
    "        \"province\" : \"Jawa Barat\"\n",
    "    },\n",
    "    \"isMarried\" : True,\n",
    "    \"hobbies\" : [\"Basket Ball\", \"Football\"]\n",
    "}\n",
    "\n",
    "print(studentData)\n",
    "print(studentData[\"age\"])\n",
    "print(studentData[\"address\"][\"province\"])\n",
    "print(studentData[\"hobbies\"][0])\n",
    "\n",
    "#List of Dictionary\n",
    "studentList = [\n",
    "     { \n",
    "        \"name\" : \"Robi\",\n",
    "        \"age\" : 25,\n",
    "        \"address\" : {\n",
    "            \"street\" : \"cisaat\",\n",
    "            \"number\" : 21,    \n",
    "            \"province\" : \"Jawa Barat\"\n",
    "        },\n",
    "        \"isMarried\" : True,\n",
    "        \"hobbies\" : [\"Basket Ball\", \"Footbal\"]\n",
    "    },\n",
    "    {\n",
    "        \"name\" : \"Dedi\",\n",
    "        \"age\" : 15,\n",
    "        \"address\" : {\n",
    "            \"street\" : \"Bogor\",\n",
    "            \"number\" : 29,\n",
    "            \"province\" : \"Jawa Barat\"\n",
    "        },\n",
    "        \"isMarried\" : False,\n",
    "        \"hobbies\" : [\"Chess\", \"Singing\"]\n",
    "    }\n",
    "]\n",
    "print (studentList[0])\n",
    "print (studentList[1])\n",
    "print (studentList[1] [\"address\"] [\"province\"])        "
   ]
  },
  {
   "cell_type": "code",
   "execution_count": 96,
   "id": "a4af751e-39c5-4d0b-9fd0-069e942acd09",
   "metadata": {},
   "outputs": [
    {
     "name": "stdout",
     "output_type": "stream",
     "text": [
      "{'Name': 'Andi', 'Age': 30, 'Status': True}\n",
      "{'Name': 'Rudi', 'Address': 'Bogor'}\n",
      "{'Name': 'Tiger', 'Type': 'Mamalia'}\n",
      "{'Name': 'Crocodile', 'Type': 'Reptile'}\n",
      "{'Vehicle': 'Car', 'Brand': 'BMW', 'cc': 2500}\n"
     ]
    }
   ],
   "source": [
    "#Konversi dictionary\n",
    "\n",
    "list_list = [[\"Name\",\"Andi\"],[\"Age\",30],[\"Status\",True]]\n",
    "dictListStudent = dict(list_list)\n",
    "print(dictListStudent)\n",
    "\n",
    "list_tuple = [(\"Name\",\"Rudi\"),(\"Address\",\"Bogor\")]\n",
    "dictTupleStudent =dict(list_tuple)\n",
    "print(dictTupleStudent)\n",
    "\n",
    "tuple_list = ([\"Name\",\"Tiger\"],[\"Type\",\"Mamalia\"])\n",
    "dictListAnimal =dict(tuple_list)\n",
    "print(dictListAnimal)\n",
    "\n",
    "tuple_tuple = ((\"Name\",\"Crocodile\"),(\"Type\",\"Reptile\"))\n",
    "dictTupleAnimal =dict(tuple_tuple)\n",
    "print(dictTupleAnimal)\n",
    "\n",
    "keys = [\"Vehicle\",\"Brand\",\"cc\"]\n",
    "values = [\"Car\",\"BMW\",2500]\n",
    "car = dict(zip(keys,values))\n",
    "print(car)"
   ]
  },
  {
   "cell_type": "code",
   "execution_count": null,
   "id": "f17f219e-2626-4f88-838e-e251581cfab6",
   "metadata": {},
   "outputs": [],
   "source": []
  }
 ],
 "metadata": {
  "kernelspec": {
   "display_name": "Python [conda env:base] *",
   "language": "python",
   "name": "conda-base-py"
  },
  "language_info": {
   "codemirror_mode": {
    "name": "ipython",
    "version": 3
   },
   "file_extension": ".py",
   "mimetype": "text/x-python",
   "name": "python",
   "nbconvert_exporter": "python",
   "pygments_lexer": "ipython3",
   "version": "3.12.7"
  }
 },
 "nbformat": 4,
 "nbformat_minor": 5
}
