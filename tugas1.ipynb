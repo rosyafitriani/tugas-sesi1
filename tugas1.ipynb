{
 "cells": [
  {
   "cell_type": "markdown",
   "id": "5a8ef347-9f94-49e4-a7f2-c4151e0ea652",
   "metadata": {},
   "source": [
    "<center>\n",
    "<img src=\"https://upload.wikimedia.org/wikipedia/commons/f/f8/Python_logo_and_wordmark.svg\" width=\"200\">\n",
    "</center>\n",
    "<table>\n",
    "<tr>\n",
    "    <td>Nama</td>\n",
    "    <td>:</td>\n",
    "    <td>Rosya Fitriani Supyan</td>\n",
    "</tr>\n",
    "    <td>NIM</td>\n",
    "    <td>:</td>\n",
    "    <td>20240040098</td>\n",
    "<tr>\n",
    "    <td>Kelas</td>\n",
    "    <td>:</td>\n",
    "    <td>TI24G</td>\n",
    "</tr>\n",
    "</table>"
   ]
  },
  {
   "cell_type": "code",
   "execution_count": null,
   "id": "4e5e3fe5-f359-471a-b07c-dfee32f401ab",
   "metadata": {},
   "outputs": [],
   "source": []
  }
 ],
 "metadata": {
  "kernelspec": {
   "display_name": "Python [conda env:base] *",
   "language": "python",
   "name": "conda-base-py"
  },
  "language_info": {
   "codemirror_mode": {
    "name": "ipython",
    "version": 3
   },
   "file_extension": ".py",
   "mimetype": "text/x-python",
   "name": "python",
   "nbconvert_exporter": "python",
   "pygments_lexer": "ipython3",
   "version": "3.12.7"
  }
 },
 "nbformat": 4,
 "nbformat_minor": 5
}
